{
 "cells": [
  {
   "cell_type": "code",
   "execution_count": 26,
   "id": "063869de-b8b2-41b2-8f7e-16afdb7bd224",
   "metadata": {},
   "outputs": [],
   "source": [
    "# import required modules\n",
    "from pathlib import Path\n",
    "import csv"
   ]
  },
  {
   "cell_type": "code",
   "execution_count": 27,
   "id": "a60426ab",
   "metadata": {},
   "outputs": [],
   "source": [
    "#set the path\n",
    "csvpath = Path('budget_data.csv')"
   ]
  },
  {
   "cell_type": "code",
   "execution_count": 29,
   "id": "77a3132e",
   "metadata": {},
   "outputs": [],
   "source": [
    "#initialize line number\n",
    "line_num = 0"
   ]
  },
  {
   "cell_type": "code",
   "execution_count": 41,
   "id": "dd0e30a7",
   "metadata": {},
   "outputs": [
    {
     "name": "stdout",
     "output_type": "stream",
     "text": [
      "<class '_io.TextIOWrapper'>\n",
      "<class '_csv.reader'>\n",
      "['Date', 'Profit/Losses'] <----- Header\n",
      "['Jan-2010', '867884']\n",
      "['Feb-2010', '984655']\n",
      "['Mar-2010', '322013']\n",
      "['Apr-2010', '-69417']\n",
      "['May-2010', '310503']\n",
      "['Jun-2010', '522857']\n",
      "['Jul-2010', '1033096']\n",
      "['Aug-2010', '604885']\n",
      "['Sep-2010', '-216386']\n",
      "['Oct-2010', '477532']\n",
      "['Nov-2010', '893810']\n",
      "['Dec-2010', '-80353']\n",
      "['Jan-2011', '779806']\n",
      "['Feb-2011', '-335203']\n",
      "['Mar-2011', '697845']\n",
      "['Apr-2011', '793163']\n",
      "['May-2011', '485070']\n",
      "['Jun-2011', '584122']\n",
      "['Jul-2011', '62729']\n",
      "['Aug-2011', '668179']\n",
      "['Sep-2011', '899906']\n",
      "['Oct-2011', '834719']\n",
      "['Nov-2011', '132003']\n",
      "['Dec-2011', '309978']\n",
      "['Jan-2012', '-755566']\n",
      "['Feb-2012', '1170593']\n",
      "['Mar-2012', '252788']\n",
      "['Apr-2012', '1151518']\n",
      "['May-2012', '817256']\n",
      "['Jun-2012', '570757']\n",
      "['Jul-2012', '506702']\n",
      "['Aug-2012', '-1022534']\n",
      "['Sep-2012', '475062']\n",
      "['Oct-2012', '779976']\n",
      "['Nov-2012', '144175']\n",
      "['Dec-2012', '542494']\n",
      "['Jan-2013', '359333']\n",
      "['Feb-2013', '321469']\n",
      "['Mar-2013', '67780']\n",
      "['Apr-2013', '471435']\n",
      "['May-2013', '565603']\n",
      "['Jun-2013', '872480']\n",
      "['Jul-2013', '789480']\n",
      "['Aug-2013', '999942']\n",
      "['Sep-2013', '-1196225']\n",
      "['Oct-2013', '268997']\n",
      "['Nov-2013', '-687986']\n",
      "['Dec-2013', '1150461']\n",
      "['Jan-2014', '682458']\n",
      "['Feb-2014', '617856']\n",
      "['Mar-2014', '824098']\n",
      "['Apr-2014', '581943']\n",
      "['May-2014', '132864']\n",
      "['Jun-2014', '448062']\n",
      "['Jul-2014', '689161']\n",
      "['Aug-2014', '800701']\n",
      "['Sep-2014', '1166643']\n",
      "['Oct-2014', '947333']\n",
      "['Nov-2014', '578668']\n",
      "['Dec-2014', '988505']\n",
      "['Jan-2015', '1139715']\n",
      "['Feb-2015', '1029471']\n",
      "['Mar-2015', '687533']\n",
      "['Apr-2015', '-524626']\n",
      "['May-2015', '158620']\n",
      "['Jun-2015', '87795']\n",
      "['Jul-2015', '423389']\n",
      "['Aug-2015', '840723']\n",
      "['Sep-2015', '568529']\n",
      "['Oct-2015', '332067']\n",
      "['Nov-2015', '989499']\n",
      "['Dec-2015', '778237']\n",
      "['Jan-2016', '650000']\n",
      "['Feb-2016', '-1100387']\n",
      "['Mar-2016', '-174946']\n",
      "['Apr-2016', '757143']\n",
      "['May-2016', '445709']\n",
      "['Jun-2016', '712961']\n",
      "['Jul-2016', '-1163797']\n",
      "['Aug-2016', '569899']\n",
      "['Sep-2016', '768450']\n",
      "['Oct-2016', '102685']\n",
      "['Nov-2016', '795914']\n",
      "['Dec-2016', '60988']\n",
      "['Jan-2017', '138230']\n",
      "['Feb-2017', '671099']\n"
     ]
    }
   ],
   "source": [
    "#Take a look and see what we have... is there a header? What does it say?\n",
    "with open(csvpath, 'r') as csvfile:\n",
    "    print(type(csvfile))\n",
    "\n",
    "    csvreader = csv.reader(csvfile, delimiter=',')\n",
    "\n",
    "    print(type(csvreader))\n",
    "\n",
    "    header = next(csvreader)\n",
    "    line_num += 1\n",
    "\n",
    "    print(f'{header} <----- Header')\n",
    "\n",
    "    for row in csvreader:\n",
    "        print(row)\n",
    "    \n",
    "\n",
    "        "
   ]
  },
  {
   "cell_type": "code",
   "execution_count": 151,
   "id": "b30c40d4",
   "metadata": {},
   "outputs": [
    {
     "name": "stdout",
     "output_type": "stream",
     "text": [
      "86\n"
     ]
    }
   ],
   "source": [
    "#Question is vague. There are 12 months. But maybe the examiner wants to know how many monthly profit/loss values are present in the data set?\n",
    "#I am answering how many month-year pairs are present by asking how many lines are in the file, minus the header row.\n",
    "file = open('budget_data.csv')\n",
    "reader = csv.reader(file)\n",
    "months = len(list(reader)) -1\n",
    "print(months)\n",
    "#The answer is 86 month-year pairs.\n"
   ]
  },
  {
   "cell_type": "code",
   "execution_count": 56,
   "id": "2182f2e2",
   "metadata": {},
   "outputs": [
    {
     "name": "stdout",
     "output_type": "stream",
     "text": [
      "38382578\n"
     ]
    }
   ],
   "source": [
    "#Calculate the Net total Profit/Loss over the entire period.\n",
    "with open('budget_data.csv') as budget:\n",
    "    next(budget)\n",
    "    total = sum(int(r[1]) for r in csv.reader(budget))\n",
    "print(total)\n",
    "\n",
    "#The answer is: $38382578"
   ]
  },
  {
   "cell_type": "code",
   "execution_count": 207,
   "id": "c1db360c",
   "metadata": {},
   "outputs": [
    {
     "name": "stdout",
     "output_type": "stream",
     "text": [
      "Financial Analysis\n",
      "----------------------------\n",
      "Total Months:  86\n",
      "Total:  $ 38382578\n",
      "Average Change: $ -2315.12\n",
      "Greatest Increase in Profits: Feb-2012 ($ 1926159)\n",
      "Greatest Decrease in Profits: Sep-2013 ($ -2196167)\n"
     ]
    }
   ],
   "source": [
    "#Calculations for 'Financial Analysis'\n",
    "profLoss = []\n",
    "dates = []\n",
    "change = []\n",
    "with open('budget_data.csv', \"r\") as budget:\n",
    "    csvreader = csv.reader(budget)\n",
    "    next(csvreader)\n",
    "\n",
    "    for r in csvreader:\n",
    "        profLoss.append(r[1])\n",
    "        dates.append(r[0])\n",
    "\n",
    "    x = [int(i) for i in profLoss]\n",
    "    z = len(x)\n",
    "\n",
    "    for i in range(1, z):\n",
    "        y = x[i] - x[i - 1]\n",
    "        change.append(y)\n",
    "\n",
    "    aveChange = sum(change) / len(change)\n",
    "    aveCh2sigfigs = round(aveChange, 2)\n",
    "    maxIncrease = max(change)\n",
    "    minDecrease = min(change)\n",
    "    \n",
    "    indexMaxInc = change.index(maxIncrease)\n",
    "    dateMaxInc = dates[indexMaxInc +1]\n",
    "    indexMinDec = change.index(minDecrease)\n",
    "    dateMinDec = dates[indexMinDec + 1]\n",
    "\n",
    "    print(f'Financial Analysis\\n----------------------------\\nTotal Months:  {months}\\nTotal:  $ {total}\\nAverage Change: $ {aveCh2sigfigs}')\n",
    "    print(f'Greatest Increase in Profits: {dateMaxInc} ($ {maxIncrease})\\nGreatest Decrease in Profits: {dateMinDec} ($ {minDecrease})')\n",
    "    \n",
    "    '''\n",
    "    The answer looks like this:\n",
    "    Financial Analysis\n",
    "----------------------------\n",
    "Total Months:  86\n",
    "Total:  $ 38382578\n",
    "Average Change: $ -2315.12\n",
    "Greatest Increase in Profits: Feb-2012 ($ 1926159)\n",
    "Greatest Decrease in Profits: Sep-2013 ($ -2196167)\n",
    "    '''"
   ]
  },
  {
   "cell_type": "code",
   "execution_count": 211,
   "id": "f3f34ab3",
   "metadata": {},
   "outputs": [],
   "source": [
    "lines = ['   Financial Analysis\\n\\\n",
    "----------------------------\\n\\\n",
    "Total Months:  86\\n\\\n",
    "Total:  $ 38382578\\n\\\n",
    "Average Change: $ -2315.12\\n\\\n",
    "Greatest Increase in Profits: Feb-2012 ($ 1926159)\\n\\\n",
    "Greatest Decrease in Profits: Sep-2013 ($ -2196167)']\n",
    "with open('PyBank_FA.txt', 'w') as f:\n",
    "    for line in lines:\n",
    "        f.write(line)\n",
    "        f.write('\\n')"
   ]
  },
  {
   "cell_type": "code",
   "execution_count": null,
   "id": "f72f5f33",
   "metadata": {},
   "outputs": [],
   "source": []
  }
 ],
 "metadata": {
  "interpreter": {
   "hash": "e99271f6bfff9ee9861d2312ed8c7c573211137611b7e61d2c9e938f284830e5"
  },
  "kernelspec": {
   "display_name": "Python 3.7.11 ('dev')",
   "language": "python",
   "name": "python3"
  },
  "language_info": {
   "codemirror_mode": {
    "name": "ipython",
    "version": 3
   },
   "file_extension": ".py",
   "mimetype": "text/x-python",
   "name": "python",
   "nbconvert_exporter": "python",
   "pygments_lexer": "ipython3",
   "version": "3.7.11"
  }
 },
 "nbformat": 4,
 "nbformat_minor": 5
}
