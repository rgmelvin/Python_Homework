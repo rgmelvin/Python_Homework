{
 "cells": [
  {
   "cell_type": "code",
   "execution_count": null,
   "id": "a2a63441-c9d8-4200-8c25-afe1ac99c839",
   "metadata": {},
   "outputs": [],
   "source": []
  }
 ],
 "metadata": {
  "kernelspec": {
   "display_name": "Python 3.7.11 ('dev')",
   "language": "python",
   "name": "python3711jvsc74a57bd0e99271f6bfff9ee9861d2312ed8c7c573211137611b7e61d2c9e938f284830e5"
  },
  "language_info": {
   "codemirror_mode": {
    "name": "ipython",
    "version": 3
   },
   "file_extension": ".py",
   "mimetype": "text/x-python",
   "name": "python",
   "nbconvert_exporter": "python",
   "pygments_lexer": "ipython3",
   "version": "3.7.11"
  }
 },
 "nbformat": 4,
 "nbformat_minor": 5
}
