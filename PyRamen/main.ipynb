{
 "cells": [
  {
   "cell_type": "code",
   "execution_count": 38,
   "id": "a2a63441-c9d8-4200-8c25-afe1ac99c839",
   "metadata": {},
   "outputs": [
    {
     "name": "stdout",
     "output_type": "stream",
     "text": [
      "{'shio ramen', 'vegetarian spicy miso', 'nagomi shoyu', 'miso crab ramen', 'tori paitan ramen', 'truffle butter ramen', 'vegetarian curry + king trumpet mushroom ramen', 'spicy miso ramen', 'burnt garlic tonkotsu ramen', 'soft-shell miso crab ramen', 'tonkotsu ramen'}\n"
     ]
    }
   ],
   "source": [
    "# import required modules\n",
    "from pathlib import Path\n",
    "import csv\n",
    "#set the path\n",
    "csvpath = Path('menu_data.csv')\n",
    "salespath = Path('sales_data.csv')\n",
    "#initialize line number\n",
    "line_num = 0\n",
    "\n",
    "#Initialized a 'menu' list object to hold the contents of menu_data.csv. Did the same for the sales file.\n",
    "menu =[]\n",
    "sales = []\n",
    "\n",
    "#Here I take a look and see what we have... is there a header? What does it say?\n",
    "#Opening the file using 'with' statement and the file path.\n",
    "with open(csvpath, 'r') as csvfile:\n",
    "\n",
    "    csvreader = csv.reader(csvfile, delimiter=',')\n",
    "#I wanted to see the class of the opened file:\n",
    "    #print(type(csvreader))\n",
    "#I am telling the software there is a header and I am skipping it\n",
    "    header = next(csvreader)\n",
    "    line_num += 1\n",
    "#I am doing like in the instructional material and pointing out the header to myself\n",
    "   # print(f'{header} <----- Header')\n",
    "#I just wanted to see the file data so iterating through and printing line by line:\n",
    "    #for row in csvreader:\n",
    "        #print(row)\n",
    "#Looping over the rows, excluding the header row, and appending each row to the initialized menu list object. So I will have a list of lists.\n",
    "    for row in csvreader:\n",
    "        menu.append(row)\n",
    "    #Just checking to see that all rows are in a list:\n",
    "    #print(menu)\n",
    "    \n",
    "#Read in the sales data:\n",
    "with open (salespath, 'r') as salesfile:\n",
    "    salesreader = csv.reader(salesfile, delimiter=',')\n",
    "    header = next(salesreader)\n",
    "    line_num += 1\n",
    "   # print(f'{header} <----- Header')\n",
    "    #for row in salesreader:\n",
    "        #print(row)\n",
    "#Wow its long!\n",
    "with open (salespath, 'r') as salesfile:\n",
    "    salesreader = csv.reader(salesfile, delimiter=',')\n",
    "    next(salesreader)\n",
    "    for row in salesreader:\n",
    "        sales.append(row)\n",
    "#print(sales)\n",
    "\n",
    "#Initializing dict object to hold key-value pairs of items and metrics\n",
    "report = {}\n",
    "\n",
    "#Initialize the row counter variable\n",
    "row_count = 0\n",
    "\n",
    "#Initializing quantity of each ramen type\n",
    "ramen_type = [item[4] for item in sales]\n",
    "ramen_type_list = set(ramen_type)\n",
    "print(ramen_type_list)\n",
    "\n"
   ]
  },
  {
   "cell_type": "code",
   "execution_count": null,
   "id": "643f86f1",
   "metadata": {},
   "outputs": [],
   "source": []
  }
 ],
 "metadata": {
  "interpreter": {
   "hash": "e99271f6bfff9ee9861d2312ed8c7c573211137611b7e61d2c9e938f284830e5"
  },
  "kernelspec": {
   "display_name": "Python 3.7.11 ('dev')",
   "language": "python",
   "name": "python3"
  },
  "language_info": {
   "codemirror_mode": {
    "name": "ipython",
    "version": 3
   },
   "file_extension": ".py",
   "mimetype": "text/x-python",
   "name": "python",
   "nbconvert_exporter": "python",
   "pygments_lexer": "ipython3",
   "version": "3.7.11"
  }
 },
 "nbformat": 4,
 "nbformat_minor": 5
}
